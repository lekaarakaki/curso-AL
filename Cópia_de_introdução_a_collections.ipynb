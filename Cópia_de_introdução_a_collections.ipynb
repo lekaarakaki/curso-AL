{
  "nbformat": 4,
  "nbformat_minor": 0,
  "metadata": {
    "colab": {
      "name": "Cópia de introdução a collections ",
      "provenance": [],
      "collapsed_sections": [
        "0l9Y_CVJCq7X"
      ],
      "include_colab_link": true
    },
    "kernelspec": {
      "name": "python3",
      "display_name": "Python 3"
    },
    "language_info": {
      "name": "python"
    }
  },
  "cells": [
    {
      "cell_type": "markdown",
      "metadata": {
        "id": "view-in-github",
        "colab_type": "text"
      },
      "source": [
        "<a href=\"https://colab.research.google.com/github/lekaarakaki/curso-AL/blob/main/C%C3%B3pia_de_introdu%C3%A7%C3%A3o_a_collections.ipynb\" target=\"_parent\"><img src=\"https://colab.research.google.com/assets/colab-badge.svg\" alt=\"Open In Colab\"/></a>"
      ]
    },
    {
      "cell_type": "code",
      "source": [
        "idade1 = 39\n",
        "idade2 = 30\n",
        "idade3 = 27\n",
        "\n",
        "print(idade1)\n",
        "print(idade2)\n",
        "print(idade3)\n"
      ],
      "metadata": {
        "colab": {
          "base_uri": "https://localhost:8080/"
        },
        "id": "poWBYyJXZliB",
        "outputId": "d0f75eaa-fc20-4d2c-b1da-9c381d8f3e2b"
      },
      "execution_count": null,
      "outputs": [
        {
          "output_type": "stream",
          "name": "stdout",
          "text": [
            "39\n",
            "30\n",
            "27\n"
          ]
        }
      ]
    },
    {
      "cell_type": "code",
      "source": [
        "idades = [39, 30, 27, 18]\n"
      ],
      "metadata": {
        "id": "hsKVwcGGasFW"
      },
      "execution_count": null,
      "outputs": []
    },
    {
      "cell_type": "code",
      "source": [
        "type(idades)"
      ],
      "metadata": {
        "id": "l6CiGCDIZ8ul",
        "colab": {
          "base_uri": "https://localhost:8080/"
        },
        "outputId": "0adcbd6d-3241-45a3-ee85-3ba0bbafd6d7"
      },
      "execution_count": null,
      "outputs": [
        {
          "output_type": "execute_result",
          "data": {
            "text/plain": [
              "list"
            ]
          },
          "metadata": {},
          "execution_count": 3
        }
      ]
    },
    {
      "cell_type": "code",
      "source": [
        "len(idades)"
      ],
      "metadata": {
        "colab": {
          "base_uri": "https://localhost:8080/"
        },
        "id": "cF2oKurnzFz7",
        "outputId": "25108e8f-4525-45d0-9ba2-51fa4c69188e"
      },
      "execution_count": null,
      "outputs": [
        {
          "output_type": "execute_result",
          "data": {
            "text/plain": [
              "4"
            ]
          },
          "metadata": {},
          "execution_count": 4
        }
      ]
    },
    {
      "cell_type": "code",
      "source": [
        "idades[0]\n"
      ],
      "metadata": {
        "colab": {
          "base_uri": "https://localhost:8080/"
        },
        "id": "NmPJJtwxzMVb",
        "outputId": "9366139e-f372-474d-a6a8-7889731e9015"
      },
      "execution_count": null,
      "outputs": [
        {
          "output_type": "execute_result",
          "data": {
            "text/plain": [
              "39"
            ]
          },
          "metadata": {},
          "execution_count": 6
        }
      ]
    },
    {
      "cell_type": "code",
      "source": [
        "idades"
      ],
      "metadata": {
        "colab": {
          "base_uri": "https://localhost:8080/"
        },
        "id": "AiwebNajzTES",
        "outputId": "e5bb90db-6cc8-4936-8a43-731020e8e83b"
      },
      "execution_count": null,
      "outputs": [
        {
          "output_type": "execute_result",
          "data": {
            "text/plain": [
              "15"
            ]
          },
          "metadata": {},
          "execution_count": 23
        }
      ]
    },
    {
      "cell_type": "code",
      "source": [
        "print(idades[1])\n",
        "print(idades[2])\n",
        "print(idades[3])\n"
      ],
      "metadata": {
        "colab": {
          "base_uri": "https://localhost:8080/"
        },
        "id": "5TiV-Q8kz47f",
        "outputId": "d7d20471-eadb-4668-863f-30760a005902"
      },
      "execution_count": null,
      "outputs": [
        {
          "output_type": "stream",
          "name": "stdout",
          "text": [
            "30\n",
            "27\n",
            "18\n"
          ]
        }
      ]
    },
    {
      "cell_type": "code",
      "source": [
        "idades.append(15)"
      ],
      "metadata": {
        "id": "QcnTY_UKz4zv"
      },
      "execution_count": null,
      "outputs": []
    },
    {
      "cell_type": "code",
      "source": [
        "idades"
      ],
      "metadata": {
        "colab": {
          "base_uri": "https://localhost:8080/"
        },
        "id": "-UlJsy8Dz4n0",
        "outputId": "26445cf0-ec83-4561-d7f2-ab3602e01f0a"
      },
      "execution_count": null,
      "outputs": [
        {
          "output_type": "execute_result",
          "data": {
            "text/plain": [
              "[39, 30, 27, 18, 15]"
            ]
          },
          "metadata": {},
          "execution_count": 30
        }
      ]
    },
    {
      "cell_type": "code",
      "source": [
        "for idade in idades:\n",
        "  print(idade)\n"
      ],
      "metadata": {
        "colab": {
          "base_uri": "https://localhost:8080/"
        },
        "id": "_eSVh3PX0KLE",
        "outputId": "eda4651d-9802-49c9-8a1e-c94506d6052a"
      },
      "execution_count": null,
      "outputs": [
        {
          "output_type": "stream",
          "name": "stdout",
          "text": [
            "39\n",
            "30\n",
            "27\n",
            "18\n",
            "15\n"
          ]
        }
      ]
    },
    {
      "cell_type": "code",
      "source": [
        "idades.remove(30)"
      ],
      "metadata": {
        "id": "fknWRGdoz4RE"
      },
      "execution_count": null,
      "outputs": []
    },
    {
      "cell_type": "code",
      "source": [
        "idades"
      ],
      "metadata": {
        "colab": {
          "base_uri": "https://localhost:8080/"
        },
        "id": "bn9dcKmBz1Tb",
        "outputId": "8a11936c-f2c9-46d0-930d-4bef827f93b5"
      },
      "execution_count": null,
      "outputs": [
        {
          "output_type": "execute_result",
          "data": {
            "text/plain": [
              "[39, 27, 18, 15]"
            ]
          },
          "metadata": {},
          "execution_count": 36
        }
      ]
    },
    {
      "cell_type": "code",
      "source": [
        "idades.append(15)\n",
        "idades.append(15)"
      ],
      "metadata": {
        "id": "zkbtG-mozlwL"
      },
      "execution_count": null,
      "outputs": []
    },
    {
      "cell_type": "code",
      "source": [
        "idades\n"
      ],
      "metadata": {
        "colab": {
          "base_uri": "https://localhost:8080/"
        },
        "id": "F8k4KtrC2yYC",
        "outputId": "4a4a9701-7912-4193-9450-b11a09eb4b8e"
      },
      "execution_count": null,
      "outputs": [
        {
          "output_type": "execute_result",
          "data": {
            "text/plain": [
              "[39, 27, 18, 15, 15, 15, 15]"
            ]
          },
          "metadata": {},
          "execution_count": 39
        }
      ]
    },
    {
      "cell_type": "code",
      "source": [
        "idades.remove(15)\n",
        "idades.remove(15)"
      ],
      "metadata": {
        "id": "o8dkurSy23Aq"
      },
      "execution_count": null,
      "outputs": []
    },
    {
      "cell_type": "code",
      "source": [
        "idades\n"
      ],
      "metadata": {
        "colab": {
          "base_uri": "https://localhost:8080/"
        },
        "id": "E0KUBt8s2_Fy",
        "outputId": "4f7a6fb8-f7dc-4889-fb15-f607f95131cc"
      },
      "execution_count": null,
      "outputs": [
        {
          "output_type": "execute_result",
          "data": {
            "text/plain": [
              "[39, 27, 18, 15, 15]"
            ]
          },
          "metadata": {},
          "execution_count": 41
        }
      ]
    },
    {
      "cell_type": "code",
      "source": [
        "idades.remove(15)\n"
      ],
      "metadata": {
        "id": "yQwsRmfl3Abh"
      },
      "execution_count": null,
      "outputs": []
    },
    {
      "cell_type": "code",
      "source": [
        "idades.clear()"
      ],
      "metadata": {
        "id": "CS_Sea6B3DTy"
      },
      "execution_count": null,
      "outputs": []
    },
    {
      "cell_type": "code",
      "source": [
        "idades\n"
      ],
      "metadata": {
        "colab": {
          "base_uri": "https://localhost:8080/"
        },
        "id": "00VKACWb3GCD",
        "outputId": "82c74e3a-32a0-447a-ccbf-aaa72631eee4"
      },
      "execution_count": null,
      "outputs": [
        {
          "output_type": "execute_result",
          "data": {
            "text/plain": [
              "[]"
            ]
          },
          "metadata": {},
          "execution_count": 44
        }
      ]
    },
    {
      "cell_type": "code",
      "source": [
        "idades = [39, 27, 18, 15]\n"
      ],
      "metadata": {
        "id": "GvwaNu0r3HCa"
      },
      "execution_count": null,
      "outputs": []
    },
    {
      "cell_type": "code",
      "source": [
        "28 in idades"
      ],
      "metadata": {
        "colab": {
          "base_uri": "https://localhost:8080/"
        },
        "id": "PNYFqI9H3Szy",
        "outputId": "1ba478de-50b4-42f0-fe13-70048a299535"
      },
      "execution_count": null,
      "outputs": [
        {
          "output_type": "execute_result",
          "data": {
            "text/plain": [
              "False"
            ]
          },
          "metadata": {},
          "execution_count": 46
        }
      ]
    },
    {
      "cell_type": "code",
      "source": [
        "15 in idades"
      ],
      "metadata": {
        "colab": {
          "base_uri": "https://localhost:8080/"
        },
        "id": "S1Qt0_OD3VEy",
        "outputId": "a485d03e-a9be-426d-e7de-ea47e8b89d07"
      },
      "execution_count": null,
      "outputs": [
        {
          "output_type": "execute_result",
          "data": {
            "text/plain": [
              "True"
            ]
          },
          "metadata": {},
          "execution_count": 47
        }
      ]
    },
    {
      "cell_type": "code",
      "source": [
        "if 15 in idades:\n",
        "  idades.remove(15)"
      ],
      "metadata": {
        "id": "DhUOcpTL3W3i"
      },
      "execution_count": null,
      "outputs": []
    },
    {
      "cell_type": "code",
      "source": [
        "idades"
      ],
      "metadata": {
        "colab": {
          "base_uri": "https://localhost:8080/"
        },
        "id": "o9DpFovo3cTi",
        "outputId": "e6eb10db-effb-4e86-c770-ec191238fd08"
      },
      "execution_count": null,
      "outputs": [
        {
          "output_type": "execute_result",
          "data": {
            "text/plain": [
              "[39, 27, 18]"
            ]
          },
          "metadata": {},
          "execution_count": 49
        }
      ]
    },
    {
      "cell_type": "code",
      "source": [
        "idades.append(19)\n",
        "idades"
      ],
      "metadata": {
        "colab": {
          "base_uri": "https://localhost:8080/"
        },
        "id": "lyxT4-RC3dZy",
        "outputId": "49caa85d-7598-4627-be76-56663e0a7bef"
      },
      "execution_count": null,
      "outputs": [
        {
          "output_type": "execute_result",
          "data": {
            "text/plain": [
              "[39, 27, 18, 19, 19]"
            ]
          },
          "metadata": {},
          "execution_count": 51
        }
      ]
    },
    {
      "cell_type": "code",
      "source": [
        "idades.remove(19)"
      ],
      "metadata": {
        "id": "EQ4viXgZ3muz"
      },
      "execution_count": null,
      "outputs": []
    },
    {
      "cell_type": "code",
      "source": [
        "idades = [20, 39, 18]"
      ],
      "metadata": {
        "id": "_2BNL1On3s6y"
      },
      "execution_count": null,
      "outputs": []
    },
    {
      "cell_type": "code",
      "source": [
        "idades.append([27, 19])"
      ],
      "metadata": {
        "id": "JPqxJA5I3yf7"
      },
      "execution_count": null,
      "outputs": []
    },
    {
      "cell_type": "code",
      "source": [
        "idades\n"
      ],
      "metadata": {
        "colab": {
          "base_uri": "https://localhost:8080/"
        },
        "id": "d86ZI02f35t6",
        "outputId": "4f273126-7ab8-4c43-c731-748b4f436845"
      },
      "execution_count": null,
      "outputs": [
        {
          "output_type": "execute_result",
          "data": {
            "text/plain": [
              "[20, 39, 18, [27, 19]]"
            ]
          },
          "metadata": {},
          "execution_count": 60
        }
      ]
    },
    {
      "cell_type": "code",
      "source": [
        "for elemento in idades:\n",
        "  print ('recebi o elemento: ', elemento)"
      ],
      "metadata": {
        "colab": {
          "base_uri": "https://localhost:8080/"
        },
        "id": "_jRPS2FV4Is6",
        "outputId": "3eeee0fe-f2af-4103-9fc5-b55d0bdf9855"
      },
      "execution_count": null,
      "outputs": [
        {
          "output_type": "stream",
          "name": "stdout",
          "text": [
            "recebi o elemento:  20\n",
            "recebi o elemento:  39\n",
            "recebi o elemento:  18\n",
            "recebi o elemento:  [27, 19]\n"
          ]
        }
      ]
    },
    {
      "cell_type": "code",
      "source": [
        "idades = [20, 39, 18]\n",
        "idades.extend([27, 19])\n",
        "idades"
      ],
      "metadata": {
        "colab": {
          "base_uri": "https://localhost:8080/"
        },
        "id": "OMKGfdoR4THk",
        "outputId": "32a13d52-f94e-401a-e141-7d08c73b9ed4"
      },
      "execution_count": null,
      "outputs": [
        {
          "output_type": "execute_result",
          "data": {
            "text/plain": [
              "[20, 39, 18, 27, 19]"
            ]
          },
          "metadata": {},
          "execution_count": 64
        }
      ]
    },
    {
      "cell_type": "code",
      "source": [
        "for idade in idades:\n",
        "  print(idade +1)"
      ],
      "metadata": {
        "colab": {
          "base_uri": "https://localhost:8080/"
        },
        "id": "B0YBT2b74g_6",
        "outputId": "4f39fc76-a886-4f20-a617-cbcfd567d355"
      },
      "execution_count": null,
      "outputs": [
        {
          "output_type": "stream",
          "name": "stdout",
          "text": [
            "21\n",
            "40\n",
            "19\n",
            "28\n",
            "20\n"
          ]
        }
      ]
    },
    {
      "cell_type": "code",
      "source": [
        "idades_no_ano_que_vem = []\n",
        "for idade in idades:\n",
        "  idades_no_ano_que_vem.append(idade+1)\n",
        "idades_no_ano_que_vem"
      ],
      "metadata": {
        "colab": {
          "base_uri": "https://localhost:8080/"
        },
        "id": "fcglYZ7i4tQC",
        "outputId": "6daa8a47-871b-4cdb-b273-94c370c670e1"
      },
      "execution_count": null,
      "outputs": [
        {
          "output_type": "execute_result",
          "data": {
            "text/plain": [
              "[21, 40, 19, 28, 20]"
            ]
          },
          "metadata": {},
          "execution_count": 67
        }
      ]
    },
    {
      "cell_type": "code",
      "source": [
        "idades_no_ano_que_vem = [(idade+1) for idade in idades]\n",
        "idades_no_ano_que_vem"
      ],
      "metadata": {
        "colab": {
          "base_uri": "https://localhost:8080/"
        },
        "id": "L70QeYRD4-3K",
        "outputId": "e8a6f145-ef78-41ed-afee-8610a9a0d6c3"
      },
      "execution_count": null,
      "outputs": [
        {
          "output_type": "execute_result",
          "data": {
            "text/plain": [
              "[21, 40, 19, 28, 20]"
            ]
          },
          "metadata": {},
          "execution_count": 72
        }
      ]
    },
    {
      "cell_type": "code",
      "source": [
        "[(idade) for idade in idades if idade > 21]\n"
      ],
      "metadata": {
        "colab": {
          "base_uri": "https://localhost:8080/"
        },
        "id": "a4Yl04Cn5Ili",
        "outputId": "41019821-1e17-44e6-ebfa-a727306b4285"
      },
      "execution_count": null,
      "outputs": [
        {
          "output_type": "execute_result",
          "data": {
            "text/plain": [
              "[39, 27]"
            ]
          },
          "metadata": {},
          "execution_count": 73
        }
      ]
    },
    {
      "cell_type": "code",
      "source": [
        "idades"
      ],
      "metadata": {
        "colab": {
          "base_uri": "https://localhost:8080/"
        },
        "id": "I7qKlbyE5mDK",
        "outputId": "1b2f665b-3008-4e57-c156-d458350a09b1"
      },
      "execution_count": null,
      "outputs": [
        {
          "output_type": "execute_result",
          "data": {
            "text/plain": [
              "[20, 39, 18, 27, 19]"
            ]
          },
          "metadata": {},
          "execution_count": 74
        }
      ]
    },
    {
      "cell_type": "code",
      "source": [
        "def proximo_ano(idade):\n",
        "  return idade+1\n",
        "[proximo_ano(idade) for idade in idades if idade>21 ]"
      ],
      "metadata": {
        "colab": {
          "base_uri": "https://localhost:8080/"
        },
        "id": "PK8-ExBx5n6y",
        "outputId": "7d784d6e-14d2-4c6b-c064-89c5fc6a24a6"
      },
      "execution_count": null,
      "outputs": [
        {
          "output_type": "execute_result",
          "data": {
            "text/plain": [
              "[40, 28]"
            ]
          },
          "metadata": {},
          "execution_count": 76
        }
      ]
    },
    {
      "cell_type": "code",
      "source": [
        "def faz_processamento_de_visualizacao(lista):\n",
        "  print(len(lista))\n",
        "  lista.append(13)"
      ],
      "metadata": {
        "id": "-pj_j-166DPL"
      },
      "execution_count": null,
      "outputs": []
    },
    {
      "cell_type": "code",
      "source": [
        "idades = [16, 21, 39, 56, 43]\n",
        "faz_processamento_de_visualizacao(idades)\n",
        "idades"
      ],
      "metadata": {
        "colab": {
          "base_uri": "https://localhost:8080/"
        },
        "id": "Gbd68J6M6mTb",
        "outputId": "8a24bd9d-e0c0-434a-a4aa-f4359ede30ed"
      },
      "execution_count": null,
      "outputs": [
        {
          "output_type": "stream",
          "name": "stdout",
          "text": [
            "5\n"
          ]
        },
        {
          "output_type": "execute_result",
          "data": {
            "text/plain": [
              "[16, 21, 39, 56, 43, 13]"
            ]
          },
          "metadata": {},
          "execution_count": 79
        }
      ]
    },
    {
      "cell_type": "code",
      "source": [
        "def faz_processamento_de_visualizacao(lista = []):\n",
        "  print(len(lista))\n",
        "  print(lista)\n",
        "  lista.append(13)"
      ],
      "metadata": {
        "id": "VZb-R-zG65UR"
      },
      "execution_count": null,
      "outputs": []
    },
    {
      "cell_type": "code",
      "source": [
        "faz_processamento_de_visualizacao()"
      ],
      "metadata": {
        "colab": {
          "base_uri": "https://localhost:8080/"
        },
        "id": "EMD9Nrgi7dC6",
        "outputId": "ea296263-c966-47db-aab0-e0dd46a8de7e"
      },
      "execution_count": null,
      "outputs": [
        {
          "output_type": "stream",
          "name": "stdout",
          "text": [
            "0\n",
            "[]\n"
          ]
        }
      ]
    },
    {
      "cell_type": "code",
      "source": [
        "faz_processamento_de_visualizacao()"
      ],
      "metadata": {
        "colab": {
          "base_uri": "https://localhost:8080/"
        },
        "id": "nxXkidtW7fda",
        "outputId": "b76cc2f4-76ba-4ef0-e20e-2860fdd51fee"
      },
      "execution_count": null,
      "outputs": [
        {
          "output_type": "stream",
          "name": "stdout",
          "text": [
            "1\n",
            "[13]\n"
          ]
        }
      ]
    },
    {
      "cell_type": "code",
      "source": [
        "faz_processamento_de_visualizacao()"
      ],
      "metadata": {
        "colab": {
          "base_uri": "https://localhost:8080/"
        },
        "id": "S4RjkQCJ7jZC",
        "outputId": "7bce4fd7-e96e-4aa9-df8a-b7de71bb928a"
      },
      "execution_count": null,
      "outputs": [
        {
          "output_type": "stream",
          "name": "stdout",
          "text": [
            "2\n",
            "[13, 13]\n"
          ]
        }
      ]
    },
    {
      "cell_type": "code",
      "source": [
        "faz_processamento_de_visualizacao()"
      ],
      "metadata": {
        "colab": {
          "base_uri": "https://localhost:8080/"
        },
        "id": "7nY7ZmRi7j6i",
        "outputId": "616c0f93-576c-4eaf-c664-5ec6f793476b"
      },
      "execution_count": null,
      "outputs": [
        {
          "output_type": "stream",
          "name": "stdout",
          "text": [
            "3\n",
            "[13, 13, 13]\n"
          ]
        }
      ]
    },
    {
      "cell_type": "code",
      "source": [
        "def faz_processamento_de_visualizacao(lista = list()):\n",
        "  print(len(lista))\n",
        "  print(lista)\n",
        "  lista.append(13)"
      ],
      "metadata": {
        "id": "bPa3BV7c7kei"
      },
      "execution_count": null,
      "outputs": []
    },
    {
      "cell_type": "code",
      "source": [
        "faz_processamento_de_visualizacao()\n",
        "faz_processamento_de_visualizacao()"
      ],
      "metadata": {
        "colab": {
          "base_uri": "https://localhost:8080/"
        },
        "id": "6Dfjfuge7ptT",
        "outputId": "0e4be1de-e8ec-429b-c34e-21e07799a1b3"
      },
      "execution_count": null,
      "outputs": [
        {
          "output_type": "stream",
          "name": "stdout",
          "text": [
            "0\n",
            "[]\n",
            "1\n",
            "[13]\n"
          ]
        }
      ]
    },
    {
      "cell_type": "code",
      "source": [
        "def faz_processamento_de_visualizacao(lista = None):\n",
        "  if lista == None:\n",
        "    lista = list()\n",
        "  print(len(lista))\n",
        "  print(lista)\n",
        "  lista.append(13)"
      ],
      "metadata": {
        "id": "lRT2zO-Z77Hy"
      },
      "execution_count": null,
      "outputs": []
    },
    {
      "cell_type": "code",
      "source": [
        "faz_processamento_de_visualizacao()\n",
        "faz_processamento_de_visualizacao()\n",
        "faz_processamento_de_visualizacao()"
      ],
      "metadata": {
        "colab": {
          "base_uri": "https://localhost:8080/"
        },
        "id": "gR0rB8U68SvC",
        "outputId": "37727fac-04af-49f5-d62b-9dcb03c39718"
      },
      "execution_count": null,
      "outputs": [
        {
          "output_type": "stream",
          "name": "stdout",
          "text": [
            "0\n",
            "[]\n",
            "0\n",
            "[]\n",
            "0\n",
            "[]\n"
          ]
        }
      ]
    },
    {
      "cell_type": "code",
      "source": [
        "class contacorrente:\n",
        "  def __init__(self, codigo):\n",
        "    self.codigo = codigo\n",
        "    self.saldo = 0\n",
        "\n",
        "  def deposita(self, valor):\n",
        "    self.saldo += valor\n",
        "  \n",
        "  def __str__(self):\n",
        "    return\"[>>codifo {} saldo {} <<]\".format(self.codigo, self.saldo)\n"
      ],
      "metadata": {
        "id": "50kybJem8XfS"
      },
      "execution_count": null,
      "outputs": []
    },
    {
      "cell_type": "code",
      "source": [
        "conta_do_gui = contacorrente(15)\n",
        "print(conta_do_gui)"
      ],
      "metadata": {
        "colab": {
          "base_uri": "https://localhost:8080/"
        },
        "id": "h_t3S9oM8286",
        "outputId": "6a4b3f8e-1162-41c2-d7e0-beb6d527179a"
      },
      "execution_count": null,
      "outputs": [
        {
          "output_type": "stream",
          "name": "stdout",
          "text": [
            "[>>codifo 15 saldo 0 <<]\n"
          ]
        }
      ]
    },
    {
      "cell_type": "code",
      "source": [
        "conta_do_gui.deposita(500)\n",
        "print(conta_do_gui)"
      ],
      "metadata": {
        "colab": {
          "base_uri": "https://localhost:8080/"
        },
        "id": "atKDAXDF9Y3r",
        "outputId": "e66a6ab0-c783-46b6-e88c-5ab22f30ba27"
      },
      "execution_count": null,
      "outputs": [
        {
          "output_type": "stream",
          "name": "stdout",
          "text": [
            "[>>codifo 15 saldo 500 <<]\n"
          ]
        }
      ]
    },
    {
      "cell_type": "code",
      "source": [
        "conta_da_dani = contacorrente(478685)\n",
        "conta_da_dani.deposita(1000)\n",
        "print(conta_da_dani)"
      ],
      "metadata": {
        "colab": {
          "base_uri": "https://localhost:8080/"
        },
        "id": "hzvjCD4T9nfC",
        "outputId": "555f5510-9635-450e-b6ff-742dc0a693f9"
      },
      "execution_count": null,
      "outputs": [
        {
          "output_type": "stream",
          "name": "stdout",
          "text": [
            "[>>codifo 478685 saldo 1000 <<]\n"
          ]
        }
      ]
    },
    {
      "cell_type": "code",
      "source": [
        "contas = [conta_do_gui, conta_da_dani]\n",
        "for conta in contas:\n",
        "  print(conta)"
      ],
      "metadata": {
        "colab": {
          "base_uri": "https://localhost:8080/"
        },
        "id": "4TpDzqf0-CZC",
        "outputId": "732105c9-1af1-4bcf-924e-d1411b7d21d8"
      },
      "execution_count": null,
      "outputs": [
        {
          "output_type": "stream",
          "name": "stdout",
          "text": [
            "[>>codifo 15 saldo 500 <<]\n",
            "[>>codifo 478685 saldo 1000 <<]\n"
          ]
        }
      ]
    },
    {
      "cell_type": "code",
      "source": [
        "contas = [conta_do_gui, conta_da_dani, conta_do_gui]\n"
      ],
      "metadata": {
        "id": "1_72WbCP-IxK"
      },
      "execution_count": null,
      "outputs": []
    },
    {
      "cell_type": "code",
      "source": [
        "print(contas[0])"
      ],
      "metadata": {
        "colab": {
          "base_uri": "https://localhost:8080/"
        },
        "id": "FaorsZlj-ZD7",
        "outputId": "537c1ffd-efa0-4b2f-8a2c-bef8a92569b1"
      },
      "execution_count": null,
      "outputs": [
        {
          "output_type": "stream",
          "name": "stdout",
          "text": [
            "[>>codifo 15 saldo 500 <<]\n"
          ]
        }
      ]
    },
    {
      "cell_type": "code",
      "source": [
        "conta_do_gui.deposita(100)"
      ],
      "metadata": {
        "id": "IKA9Vy9T-bv6"
      },
      "execution_count": null,
      "outputs": []
    },
    {
      "cell_type": "code",
      "source": [
        "print(contas[0])"
      ],
      "metadata": {
        "colab": {
          "base_uri": "https://localhost:8080/"
        },
        "id": "GQrGo2rX-oBz",
        "outputId": "a370e8a6-1bff-41a7-dcc4-3714cc53c885"
      },
      "execution_count": null,
      "outputs": [
        {
          "output_type": "stream",
          "name": "stdout",
          "text": [
            "[>>codifo 15 saldo 600 <<]\n"
          ]
        }
      ]
    },
    {
      "cell_type": "code",
      "source": [
        "print(conta_do_gui)"
      ],
      "metadata": {
        "colab": {
          "base_uri": "https://localhost:8080/"
        },
        "id": "p_-XLh94-qcC",
        "outputId": "fd5a74eb-4a3f-4d5b-e837-27921a48477c"
      },
      "execution_count": null,
      "outputs": [
        {
          "output_type": "stream",
          "name": "stdout",
          "text": [
            "[>>codifo 15 saldo 600 <<]\n"
          ]
        }
      ]
    },
    {
      "cell_type": "code",
      "source": [
        "print(contas[2])"
      ],
      "metadata": {
        "colab": {
          "base_uri": "https://localhost:8080/"
        },
        "id": "fuUGmD_O-xJ6",
        "outputId": "c4fd4986-8084-4599-ec94-92922cd61938"
      },
      "execution_count": null,
      "outputs": [
        {
          "output_type": "stream",
          "name": "stdout",
          "text": [
            "[>>codifo 15 saldo 600 <<]\n"
          ]
        }
      ]
    },
    {
      "cell_type": "code",
      "source": [
        "contas[2].deposita(300)"
      ],
      "metadata": {
        "id": "CndQbjTQ-_oD"
      },
      "execution_count": null,
      "outputs": []
    },
    {
      "cell_type": "code",
      "source": [
        "print(contas[2])"
      ],
      "metadata": {
        "colab": {
          "base_uri": "https://localhost:8080/"
        },
        "id": "DeuQyhxIAGKi",
        "outputId": "0b1a3086-7a0a-4619-bc7a-88d3580c8c24"
      },
      "execution_count": null,
      "outputs": [
        {
          "output_type": "stream",
          "name": "stdout",
          "text": [
            "[>>codifo 15 saldo 900 <<]\n"
          ]
        }
      ]
    },
    {
      "cell_type": "code",
      "source": [
        "def deposita_para_todas(contas):\n",
        "  for conta in contas:\n",
        "    conta.deposita(100)\n",
        "contas = [conta_do_gui, conta_da_dani]\n",
        "print(contas[0], contas[1])\n",
        "deposita_para_todas(contas)\n",
        "print(contas[0], contas[1])"
      ],
      "metadata": {
        "colab": {
          "base_uri": "https://localhost:8080/"
        },
        "id": "9thaZ5R1AH0p",
        "outputId": "e435cd12-2370-4750-ffd2-bf7c1d3c472d"
      },
      "execution_count": null,
      "outputs": [
        {
          "output_type": "stream",
          "name": "stdout",
          "text": [
            "[>>codifo 15 saldo 1000 <<] [>>codifo 478685 saldo 1100 <<]\n",
            "[>>codifo 15 saldo 1100 <<] [>>codifo 478685 saldo 1200 <<]\n"
          ]
        }
      ]
    },
    {
      "cell_type": "code",
      "source": [
        "contas.insert(0, 76)\n",
        "print(contas[0], contas[1], contas[2])"
      ],
      "metadata": {
        "colab": {
          "base_uri": "https://localhost:8080/"
        },
        "id": "Tcmfa10lAoLC",
        "outputId": "d47d2132-0629-4c4f-9830-1c5f5a3a7be6"
      },
      "execution_count": null,
      "outputs": [
        {
          "output_type": "stream",
          "name": "stdout",
          "text": [
            "76 [>>codifo 15 saldo 1100 <<] [>>codifo 478685 saldo 1200 <<]\n"
          ]
        }
      ]
    },
    {
      "cell_type": "code",
      "source": [
        "deposita_para_todas(contas)\n",
        "print(contas[0], contas[1], contas[2])"
      ],
      "metadata": {
        "colab": {
          "base_uri": "https://localhost:8080/",
          "height": 304
        },
        "id": "IDlCAhBUBS9a",
        "outputId": "5d006d5d-eca2-4d78-ee5b-a099d297da06"
      },
      "execution_count": null,
      "outputs": [
        {
          "output_type": "error",
          "ename": "AttributeError",
          "evalue": "ignored",
          "traceback": [
            "\u001b[0;31m---------------------------------------------------------------------------\u001b[0m",
            "\u001b[0;31mAttributeError\u001b[0m                            Traceback (most recent call last)",
            "\u001b[0;32m<ipython-input-138-92ac4487eece>\u001b[0m in \u001b[0;36m<module>\u001b[0;34m()\u001b[0m\n\u001b[0;32m----> 1\u001b[0;31m \u001b[0mdeposita_para_todas\u001b[0m\u001b[0;34m(\u001b[0m\u001b[0mcontas\u001b[0m\u001b[0;34m)\u001b[0m\u001b[0;34m\u001b[0m\u001b[0;34m\u001b[0m\u001b[0m\n\u001b[0m\u001b[1;32m      2\u001b[0m \u001b[0mprint\u001b[0m\u001b[0;34m(\u001b[0m\u001b[0mcontas\u001b[0m\u001b[0;34m[\u001b[0m\u001b[0;36m0\u001b[0m\u001b[0;34m]\u001b[0m\u001b[0;34m,\u001b[0m \u001b[0mcontas\u001b[0m\u001b[0;34m[\u001b[0m\u001b[0;36m1\u001b[0m\u001b[0;34m]\u001b[0m\u001b[0;34m,\u001b[0m \u001b[0mcontas\u001b[0m\u001b[0;34m[\u001b[0m\u001b[0;36m2\u001b[0m\u001b[0;34m]\u001b[0m\u001b[0;34m)\u001b[0m\u001b[0;34m\u001b[0m\u001b[0;34m\u001b[0m\u001b[0m\n",
            "\u001b[0;32m<ipython-input-135-c58a3f8b217e>\u001b[0m in \u001b[0;36mdeposita_para_todas\u001b[0;34m(contas)\u001b[0m\n\u001b[1;32m      1\u001b[0m \u001b[0;32mdef\u001b[0m \u001b[0mdeposita_para_todas\u001b[0m\u001b[0;34m(\u001b[0m\u001b[0mcontas\u001b[0m\u001b[0;34m)\u001b[0m\u001b[0;34m:\u001b[0m\u001b[0;34m\u001b[0m\u001b[0;34m\u001b[0m\u001b[0m\n\u001b[1;32m      2\u001b[0m   \u001b[0;32mfor\u001b[0m \u001b[0mconta\u001b[0m \u001b[0;32min\u001b[0m \u001b[0mcontas\u001b[0m\u001b[0;34m:\u001b[0m\u001b[0;34m\u001b[0m\u001b[0;34m\u001b[0m\u001b[0m\n\u001b[0;32m----> 3\u001b[0;31m     \u001b[0mconta\u001b[0m\u001b[0;34m.\u001b[0m\u001b[0mdeposita\u001b[0m\u001b[0;34m(\u001b[0m\u001b[0;36m100\u001b[0m\u001b[0;34m)\u001b[0m\u001b[0;34m\u001b[0m\u001b[0;34m\u001b[0m\u001b[0m\n\u001b[0m\u001b[1;32m      4\u001b[0m \u001b[0mcontas\u001b[0m \u001b[0;34m=\u001b[0m \u001b[0;34m[\u001b[0m\u001b[0mconta_do_gui\u001b[0m\u001b[0;34m,\u001b[0m \u001b[0mconta_da_dani\u001b[0m\u001b[0;34m]\u001b[0m\u001b[0;34m\u001b[0m\u001b[0;34m\u001b[0m\u001b[0m\n\u001b[1;32m      5\u001b[0m \u001b[0mprint\u001b[0m\u001b[0;34m(\u001b[0m\u001b[0mcontas\u001b[0m\u001b[0;34m[\u001b[0m\u001b[0;36m0\u001b[0m\u001b[0;34m]\u001b[0m\u001b[0;34m,\u001b[0m \u001b[0mcontas\u001b[0m\u001b[0;34m[\u001b[0m\u001b[0;36m1\u001b[0m\u001b[0;34m]\u001b[0m\u001b[0;34m)\u001b[0m\u001b[0;34m\u001b[0m\u001b[0;34m\u001b[0m\u001b[0m\n",
            "\u001b[0;31mAttributeError\u001b[0m: 'int' object has no attribute 'deposita'"
          ]
        }
      ]
    },
    {
      "cell_type": "markdown",
      "source": [
        "#tuplas\n",
        "#geralmente usadas com a intenção do proimeiro topico\n",
        "* a posição é importante\n",
        "* os valores são imutaveis \n",
        "** é comim que a tupla vire uma classe com três métodos;\n",
        "\n",
        "° normalmente se usa uma variação funcional para manipular os valores e não uma variação orientada a objetos "
      ],
      "metadata": {
        "id": "0l9Y_CVJCq7X"
      }
    },
    {
      "cell_type": "code",
      "source": [
        "guilherme = ('guilherme', 37, 1981)\n",
        "daniela = ('daniela', 31, 1987)\n"
      ],
      "metadata": {
        "id": "yDK6auooBsq0"
      },
      "execution_count": null,
      "outputs": []
    },
    {
      "cell_type": "code",
      "source": [
        "\n",
        "def deposita(conta):# variação \"funcional\" (separando o comportamento dos dados)\n",
        "  novo_saldo = conta[1] + 100\n",
        "  codigo  = conta[0]\n",
        "  return (codigo, novo_saldo)\n"
      ],
      "metadata": {
        "id": "5FlcVt5QCp5q"
      },
      "execution_count": null,
      "outputs": []
    },
    {
      "cell_type": "code",
      "source": [
        "conta_do_gui = (15, 1000)"
      ],
      "metadata": {
        "id": "bRbyjmxQEg_K"
      },
      "execution_count": null,
      "outputs": []
    },
    {
      "cell_type": "code",
      "source": [
        "deposita(conta_do_gui)"
      ],
      "metadata": {
        "colab": {
          "base_uri": "https://localhost:8080/"
        },
        "id": "ch2o7kFLEk75",
        "outputId": "4814b47d-35e6-472c-917c-9fa8a881bc64"
      },
      "execution_count": null,
      "outputs": [
        {
          "output_type": "execute_result",
          "data": {
            "text/plain": [
              "(15, 1100)"
            ]
          },
          "metadata": {},
          "execution_count": 152
        }
      ]
    },
    {
      "cell_type": "code",
      "source": [
        "conta_do_gui"
      ],
      "metadata": {
        "colab": {
          "base_uri": "https://localhost:8080/"
        },
        "id": "TPy6PEPlE7ci",
        "outputId": "af215505-e615-4ce2-e628-5a3b0cda7e27"
      },
      "execution_count": null,
      "outputs": [
        {
          "output_type": "execute_result",
          "data": {
            "text/plain": [
              "(15, 1000)"
            ]
          },
          "metadata": {},
          "execution_count": 153
        }
      ]
    },
    {
      "cell_type": "code",
      "source": [
        "conta_do_gui = deposita(conta_do_gui)\n",
        "conta_do_gui"
      ],
      "metadata": {
        "colab": {
          "base_uri": "https://localhost:8080/"
        },
        "id": "DqEDbMQHE-4a",
        "outputId": "f27992ea-cc07-480b-fe92-5dfa4cd3e1e5"
      },
      "execution_count": null,
      "outputs": [
        {
          "output_type": "execute_result",
          "data": {
            "text/plain": [
              "(15, 1100)"
            ]
          },
          "metadata": {},
          "execution_count": 154
        }
      ]
    },
    {
      "cell_type": "code",
      "source": [
        "usuarios = [guilherme, daniela]\n",
        "usuarios"
      ],
      "metadata": {
        "colab": {
          "base_uri": "https://localhost:8080/"
        },
        "id": "940K-a0TFFpb",
        "outputId": "ad23d406-4f55-4fc8-fb6e-c19bcec4e24e"
      },
      "execution_count": null,
      "outputs": [
        {
          "output_type": "execute_result",
          "data": {
            "text/plain": [
              "[('guilherme', 37, 1981), ('daniela', 31, 1987)]"
            ]
          },
          "metadata": {},
          "execution_count": 157
        }
      ]
    },
    {
      "cell_type": "code",
      "source": [
        "usuarios.append(('paulo', 39, 1979))"
      ],
      "metadata": {
        "id": "SWuBsLuzFHAh"
      },
      "execution_count": null,
      "outputs": []
    },
    {
      "cell_type": "code",
      "source": [
        "usuarios"
      ],
      "metadata": {
        "colab": {
          "base_uri": "https://localhost:8080/"
        },
        "id": "N09b58QyF8-J",
        "outputId": "bc20e974-2c73-4a0a-a7fa-5247abe9b057"
      },
      "execution_count": null,
      "outputs": [
        {
          "output_type": "execute_result",
          "data": {
            "text/plain": [
              "[('guilherme', 37, 1981), ('daniela', 31, 1987), ('paulo', 39, 1979)]"
            ]
          },
          "metadata": {},
          "execution_count": 161
        }
      ]
    },
    {
      "cell_type": "code",
      "source": [
        "usuarios[0][0]"
      ],
      "metadata": {
        "colab": {
          "base_uri": "https://localhost:8080/",
          "height": 35
        },
        "id": "whRaCsOzF-Wh",
        "outputId": "c7b54232-03c9-4591-a275-0d75fe37a554"
      },
      "execution_count": null,
      "outputs": [
        {
          "output_type": "execute_result",
          "data": {
            "application/vnd.google.colaboratory.intrinsic+json": {
              "type": "string"
            },
            "text/plain": [
              "'guilherme'"
            ]
          },
          "metadata": {},
          "execution_count": 163
        }
      ]
    },
    {
      "cell_type": "code",
      "source": [
        "conta_do_gui = contacorrente(15)\n",
        "conta_do_gui.deposita(500)\n",
        "conta_da_dani = contacorrente(234876)\n",
        "conta_da_dani.deposita(1000)\n",
        "\n",
        "contas = (conta_do_gui, conta_da_dani)"
      ],
      "metadata": {
        "id": "orHcyafVGHJR"
      },
      "execution_count": null,
      "outputs": []
    },
    {
      "cell_type": "code",
      "source": [
        "for conta in contas:\n",
        "  print(conta)"
      ],
      "metadata": {
        "colab": {
          "base_uri": "https://localhost:8080/"
        },
        "id": "FUTVlCwnGtsZ",
        "outputId": "7a38df9a-14e3-4d9b-8c78-e5a949175178"
      },
      "execution_count": null,
      "outputs": [
        {
          "output_type": "stream",
          "name": "stdout",
          "text": [
            "[>>codifo 15 saldo 500 <<]\n",
            "[>>codifo 234876 saldo 1000 <<]\n"
          ]
        }
      ]
    },
    {
      "cell_type": "code",
      "source": [
        "contas[0].deposita(300)"
      ],
      "metadata": {
        "id": "6GTJvgcBGuep"
      },
      "execution_count": null,
      "outputs": []
    },
    {
      "cell_type": "code",
      "source": [
        "for conta in contas:\n",
        "  print(conta)"
      ],
      "metadata": {
        "colab": {
          "base_uri": "https://localhost:8080/"
        },
        "id": "UUMMPbklG57R",
        "outputId": "dc286a7d-0ab7-479e-c73d-e3f273f65759"
      },
      "execution_count": null,
      "outputs": [
        {
          "output_type": "stream",
          "name": "stdout",
          "text": [
            "[>>codifo 15 saldo 800 <<]\n",
            "[>>codifo 234876 saldo 1000 <<]\n"
          ]
        }
      ]
    },
    {
      "cell_type": "markdown",
      "source": [
        "#herança e polimorfismo\n"
      ],
      "metadata": {
        "id": "7MpnoOZ4P5PY"
      }
    },
    {
      "cell_type": "code",
      "source": [
        "from abc import ABCMeta, abstractmethod\n",
        "class Contas(metaclass=ABCMeta ):\n",
        "  def __init__(self, codigo):\n",
        "    self._codigo = codigo\n",
        "    self._saldo = 0\n",
        "\n",
        "  def deposita(self, valor):\n",
        "    self._saldo += valor\n",
        "\n",
        "  @abstractmethod\n",
        "  def passa_o_mes(self):\n",
        "    pass\n",
        "  \n",
        "  def __str__(self):\n",
        "    return \"[>>> código {} saldo {} <<<]\".format(self._codigo, self._saldo)"
      ],
      "metadata": {
        "id": "sZA1k7UPHDiZ"
      },
      "execution_count": null,
      "outputs": []
    },
    {
      "cell_type": "code",
      "source": [
        "print(contas(88))"
      ],
      "metadata": {
        "colab": {
          "base_uri": "https://localhost:8080/",
          "height": 165
        },
        "id": "EtQxxqKqPyHD",
        "outputId": "26cd1693-acb7-4703-ed85-3d6729aebc26"
      },
      "execution_count": null,
      "outputs": [
        {
          "output_type": "error",
          "ename": "NameError",
          "evalue": "ignored",
          "traceback": [
            "\u001b[0;31m---------------------------------------------------------------------------\u001b[0m",
            "\u001b[0;31mNameError\u001b[0m                                 Traceback (most recent call last)",
            "\u001b[0;32m<ipython-input-22-049462448317>\u001b[0m in \u001b[0;36m<module>\u001b[0;34m()\u001b[0m\n\u001b[0;32m----> 1\u001b[0;31m \u001b[0mprint\u001b[0m\u001b[0;34m(\u001b[0m\u001b[0mcontas\u001b[0m\u001b[0;34m(\u001b[0m\u001b[0;36m88\u001b[0m\u001b[0;34m)\u001b[0m\u001b[0;34m)\u001b[0m\u001b[0;34m\u001b[0m\u001b[0;34m\u001b[0m\u001b[0m\n\u001b[0m",
            "\u001b[0;31mNameError\u001b[0m: name 'contas' is not defined"
          ]
        }
      ]
    },
    {
      "cell_type": "code",
      "source": [
        "class ContaCorrente(Contas):\n",
        "\n",
        "  def passa_o_mes(self):\n",
        "    self._saldo -= 2 \n",
        "\n",
        "\n",
        "class ContaPoupanca(Contas):\n",
        "\n",
        "  def passa_o_mes(self):\n",
        "    self._saldo *= 1.01\n",
        "    self._saldo -= 3 \n",
        "\n",
        "class ContaInvestimento(contas):\n",
        "  pass\n"
      ],
      "metadata": {
        "colab": {
          "base_uri": "https://localhost:8080/",
          "height": 217
        },
        "id": "jUszphn7Q5EB",
        "outputId": "dbd99b14-c8ba-4999-f9c2-9faca560c607"
      },
      "execution_count": null,
      "outputs": [
        {
          "output_type": "error",
          "ename": "NameError",
          "evalue": "ignored",
          "traceback": [
            "\u001b[0;31m---------------------------------------------------------------------------\u001b[0m",
            "\u001b[0;31mNameError\u001b[0m                                 Traceback (most recent call last)",
            "\u001b[0;32m<ipython-input-23-df3ec6ebe19a>\u001b[0m in \u001b[0;36m<module>\u001b[0;34m()\u001b[0m\n\u001b[1;32m     11\u001b[0m     \u001b[0mself\u001b[0m\u001b[0;34m.\u001b[0m\u001b[0m_saldo\u001b[0m \u001b[0;34m-=\u001b[0m \u001b[0;36m3\u001b[0m\u001b[0;34m\u001b[0m\u001b[0;34m\u001b[0m\u001b[0m\n\u001b[1;32m     12\u001b[0m \u001b[0;34m\u001b[0m\u001b[0m\n\u001b[0;32m---> 13\u001b[0;31m \u001b[0;32mclass\u001b[0m \u001b[0mContaInvestimento\u001b[0m\u001b[0;34m(\u001b[0m\u001b[0mcontas\u001b[0m\u001b[0;34m)\u001b[0m\u001b[0;34m:\u001b[0m\u001b[0;34m\u001b[0m\u001b[0;34m\u001b[0m\u001b[0m\n\u001b[0m\u001b[1;32m     14\u001b[0m   \u001b[0;32mpass\u001b[0m\u001b[0;34m\u001b[0m\u001b[0;34m\u001b[0m\u001b[0m\n",
            "\u001b[0;31mNameError\u001b[0m: name 'contas' is not defined"
          ]
        }
      ]
    },
    {
      "cell_type": "code",
      "source": [
        "conta16 = ContaCorrente(16)\n",
        "conta16.deposita(1000)\n",
        "conta16.passa_o_mes()\n",
        "print(conta16)"
      ],
      "metadata": {
        "colab": {
          "base_uri": "https://localhost:8080/"
        },
        "id": "5dlnK3wCRLCB",
        "outputId": "c46ea708-7138-468e-f4f7-c7089ef1c963"
      },
      "execution_count": null,
      "outputs": [
        {
          "output_type": "stream",
          "name": "stdout",
          "text": [
            "[>>> código 16 saldo 998 <<<]\n"
          ]
        }
      ]
    },
    {
      "cell_type": "code",
      "source": [
        "conta17= ContaPoupanca(17)\n",
        "conta17.deposita(1000)\n",
        "conta17.passa_o_mes()\n",
        "print(conta17)"
      ],
      "metadata": {
        "colab": {
          "base_uri": "https://localhost:8080/"
        },
        "id": "kAu-qDTSSUZx",
        "outputId": "babfa1c2-ab7c-47cb-c6c3-3a2fa01ac0ef"
      },
      "execution_count": null,
      "outputs": [
        {
          "output_type": "stream",
          "name": "stdout",
          "text": [
            "[>>> código 17 saldo 1007.0 <<<]\n"
          ]
        }
      ]
    },
    {
      "cell_type": "code",
      "source": [
        "conta16 = ContaCorrente(16)\n",
        "conta16.deposita(1000)\n",
        "conta17= ContaPoupanca(17)\n",
        "conta17.deposita(1000)\n",
        "contas = [conta16, conta17 ]\n",
        "\n",
        "for conta in contas:\n",
        "  conta.passa_o_mes()\n",
        "  print(conta)"
      ],
      "metadata": {
        "colab": {
          "base_uri": "https://localhost:8080/"
        },
        "id": "TSRryOi9TbMh",
        "outputId": "d1382fee-048b-4137-e6f8-18b8fb0f7323"
      },
      "execution_count": null,
      "outputs": [
        {
          "output_type": "stream",
          "name": "stdout",
          "text": [
            "[>>> código 16 saldo 998 <<<]\n",
            "[>>> código 17 saldo 1007.0 <<<]\n"
          ]
        }
      ]
    },
    {
      "cell_type": "markdown",
      "source": [
        "# evitamos usar array puro, se precisamos de trabalhos numericos, usamos numpy"
      ],
      "metadata": {
        "id": "lPINn3a_UxAP"
      }
    },
    {
      "cell_type": "code",
      "source": [
        "import array as arr\n",
        "\n",
        "arr.array ('d', [1, 3.5])"
      ],
      "metadata": {
        "colab": {
          "base_uri": "https://localhost:8080/"
        },
        "id": "j6puri7wT8aK",
        "outputId": "25120f5a-1d71-4ec2-f5a5-0b06f352888f"
      },
      "execution_count": null,
      "outputs": [
        {
          "output_type": "execute_result",
          "data": {
            "text/plain": [
              "array('d', [1.0, 3.5])"
            ]
          },
          "metadata": {},
          "execution_count": 214
        }
      ]
    },
    {
      "cell_type": "code",
      "source": [
        "import numpy as np\n",
        "\n",
        "numeros = np.array([1, 3.5])\n",
        "numeros"
      ],
      "metadata": {
        "colab": {
          "base_uri": "https://localhost:8080/"
        },
        "id": "xYbgzfiCVKM5",
        "outputId": "a25b2c83-27fb-453b-bb42-51f7812b7cd2"
      },
      "execution_count": null,
      "outputs": [
        {
          "output_type": "execute_result",
          "data": {
            "text/plain": [
              "array([1. , 3.5])"
            ]
          },
          "metadata": {},
          "execution_count": 3
        }
      ]
    },
    {
      "cell_type": "code",
      "source": [
        "numeros + 3\n"
      ],
      "metadata": {
        "colab": {
          "base_uri": "https://localhost:8080/"
        },
        "id": "o_AG-4R5Vcow",
        "outputId": "eb17a624-54c1-42be-c937-4d843ffa8d21"
      },
      "execution_count": null,
      "outputs": [
        {
          "output_type": "execute_result",
          "data": {
            "text/plain": [
              "array([4. , 6.5])"
            ]
          },
          "metadata": {},
          "execution_count": 5
        }
      ]
    },
    {
      "cell_type": "code",
      "source": [
        "class ContaSalario:\n",
        "  def __init__(self, codigo):\n",
        "    self._codigo = codigo\n",
        "    self._saldo = 0\n",
        "\n",
        "  def __eq__(self, outro):\n",
        "    return self._codigo == outro._codigo\n",
        "\n",
        "  def deposita(self, valor):\n",
        "    self._saldo += valor\n",
        "\n",
        "  def __str__(self):\n",
        "    return \"[>>> cofigo {} saldo {} <<<]\".format(self._codigo, self._saldo )\n"
      ],
      "metadata": {
        "id": "9S0pPzlYdq33"
      },
      "execution_count": null,
      "outputs": []
    },
    {
      "cell_type": "code",
      "source": [
        "conta1 = ContaSalario(37)\n",
        "conta2 = ContaSalario(37)\n",
        "conta1 == conta2"
      ],
      "metadata": {
        "colab": {
          "base_uri": "https://localhost:8080/"
        },
        "id": "iwVjVrXVjsHN",
        "outputId": "50afee9d-b4df-4b3b-b9e5-9ae8e6a83681"
      },
      "execution_count": null,
      "outputs": [
        {
          "output_type": "execute_result",
          "data": {
            "text/plain": [
              "True"
            ]
          },
          "metadata": {},
          "execution_count": 40
        }
      ]
    },
    {
      "cell_type": "code",
      "source": [
        "conta1 != conta2"
      ],
      "metadata": {
        "colab": {
          "base_uri": "https://localhost:8080/"
        },
        "id": "7r6G587bjzJl",
        "outputId": "1dbccc24-a3ec-41c9-e2ad-e16b7ff2c5f6"
      },
      "execution_count": null,
      "outputs": [
        {
          "output_type": "execute_result",
          "data": {
            "text/plain": [
              "False"
            ]
          },
          "metadata": {},
          "execution_count": 41
        }
      ]
    },
    {
      "cell_type": "code",
      "source": [
        "conta1 in [conta2]"
      ],
      "metadata": {
        "colab": {
          "base_uri": "https://localhost:8080/"
        },
        "id": "O3ZlPy6Cj_L9",
        "outputId": "3d3c4739-6594-490b-d8db-f210c1bb2cd7"
      },
      "execution_count": null,
      "outputs": [
        {
          "output_type": "execute_result",
          "data": {
            "text/plain": [
              "True"
            ]
          },
          "metadata": {},
          "execution_count": 42
        }
      ]
    },
    {
      "cell_type": "code",
      "source": [
        "conta2 in [conta1]"
      ],
      "metadata": {
        "colab": {
          "base_uri": "https://localhost:8080/"
        },
        "id": "xXVo7c7_kBDl",
        "outputId": "5961bd28-1cb0-4ee1-a7be-5cc074bf16b8"
      },
      "execution_count": null,
      "outputs": [
        {
          "output_type": "execute_result",
          "data": {
            "text/plain": [
              "True"
            ]
          },
          "metadata": {},
          "execution_count": 44
        }
      ]
    },
    {
      "cell_type": "code",
      "source": [
        "class ContaSalario:\n",
        "  def __init__(self, codigo):\n",
        "    self._codigo = codigo\n",
        "    self._saldo = 0\n",
        "\n",
        "  def __eq__(self, outro):\n",
        "    return self._codigo == outro._codigo and self._saldo == outro._saldo\n",
        "\n",
        "  def deposita(self, valor):\n",
        "    self._saldo += valor\n",
        "\n",
        "  def __str__(self):\n",
        "    return \"[>>> cofigo {} saldo {} <<<]\".format(self._codigo, self._saldo )\n"
      ],
      "metadata": {
        "id": "gsFwoAuGlKdN"
      },
      "execution_count": null,
      "outputs": []
    },
    {
      "cell_type": "code",
      "source": [
        "conta1 = ContaSalario(37)\n",
        "conta2 = ContaSalario(37)\n",
        "conta1 == conta2"
      ],
      "metadata": {
        "colab": {
          "base_uri": "https://localhost:8080/"
        },
        "id": "VsnXlUhhlmWW",
        "outputId": "60778bae-c7b3-4666-fae8-dd8236af9138"
      },
      "execution_count": null,
      "outputs": [
        {
          "output_type": "execute_result",
          "data": {
            "text/plain": [
              "True"
            ]
          },
          "metadata": {},
          "execution_count": 47
        }
      ]
    },
    {
      "cell_type": "code",
      "source": [
        "conta1.deposita(10)"
      ],
      "metadata": {
        "id": "-OMRri32lq8i"
      },
      "execution_count": null,
      "outputs": []
    },
    {
      "cell_type": "code",
      "source": [
        "conta1 == conta2"
      ],
      "metadata": {
        "colab": {
          "base_uri": "https://localhost:8080/"
        },
        "id": "vxY7jW4flu19",
        "outputId": "cc98fca7-2d02-4605-f823-f5ff5698bc0c"
      },
      "execution_count": null,
      "outputs": [
        {
          "output_type": "execute_result",
          "data": {
            "text/plain": [
              "False"
            ]
          },
          "metadata": {},
          "execution_count": 49
        }
      ]
    },
    {
      "cell_type": "code",
      "source": [
        "class ContaSalario:\n",
        "  def __init__(self, codigo):\n",
        "    self._codigo = codigo\n",
        "    self._saldo = 0\n",
        "\n",
        "  def __eq__(self, outro):\n",
        "    if type(outro) != ContaSalario:\n",
        "      return False \n",
        "    return self._codigo == outro._codigo and self._saldo == outro._saldo\n",
        "\n",
        "  def deposita(self, valor):\n",
        "    self._saldo += valor\n",
        "\n",
        "  def __str__(self):\n",
        "    return \"[>>> cofigo {} saldo {} <<<]\".format(self._codigo, self._saldo )\n"
      ],
      "metadata": {
        "id": "FcDtmwLTlw71"
      },
      "execution_count": null,
      "outputs": []
    },
    {
      "cell_type": "code",
      "source": [
        "conta1 = ContaSalario(37)\n",
        "conta2 = ContaCorrente(37)\n"
      ],
      "metadata": {
        "id": "LHWVdKV-mCi3"
      },
      "execution_count": null,
      "outputs": []
    },
    {
      "cell_type": "code",
      "source": [
        "conta1 == conta2"
      ],
      "metadata": {
        "colab": {
          "base_uri": "https://localhost:8080/"
        },
        "id": "5VeHCMQGmIw1",
        "outputId": "597c9cef-224d-4d42-9c64-ee1037708458"
      },
      "execution_count": null,
      "outputs": [
        {
          "output_type": "execute_result",
          "data": {
            "text/plain": [
              "False"
            ]
          },
          "metadata": {},
          "execution_count": 53
        }
      ]
    },
    {
      "cell_type": "code",
      "source": [
        "isinstance(ContaCorrente(34), ContaCorrente)"
      ],
      "metadata": {
        "colab": {
          "base_uri": "https://localhost:8080/"
        },
        "id": "-qO1r9H8mUSA",
        "outputId": "8c689802-76e8-443b-e207-58605e0add86"
      },
      "execution_count": null,
      "outputs": [
        {
          "output_type": "execute_result",
          "data": {
            "text/plain": [
              "True"
            ]
          },
          "metadata": {},
          "execution_count": 57
        }
      ]
    },
    {
      "cell_type": "code",
      "source": [
        "isinstance(ContaCorrente(34), Contas)"
      ],
      "metadata": {
        "colab": {
          "base_uri": "https://localhost:8080/"
        },
        "id": "1Sv2WZTFnAVV",
        "outputId": "37abba7c-abd9-4bd0-d71d-dc2c8890cc1d"
      },
      "execution_count": null,
      "outputs": [
        {
          "output_type": "execute_result",
          "data": {
            "text/plain": [
              "True"
            ]
          },
          "metadata": {},
          "execution_count": 59
        }
      ]
    },
    {
      "cell_type": "code",
      "source": [
        "idades = [15, 87, 32, 65, 56, 32, 49, 37]\n",
        "for i in range(len(idades)):\n",
        "  print(i, idades[i])"
      ],
      "metadata": {
        "colab": {
          "base_uri": "https://localhost:8080/"
        },
        "id": "fjbguyrGnNak",
        "outputId": "88fd3879-c49a-44f3-a0f4-83c6f9102ec0"
      },
      "execution_count": null,
      "outputs": [
        {
          "output_type": "stream",
          "name": "stdout",
          "text": [
            "0 15\n",
            "1 87\n",
            "2 32\n",
            "3 65\n",
            "4 56\n",
            "5 32\n",
            "6 49\n",
            "7 37\n"
          ]
        }
      ]
    },
    {
      "cell_type": "code",
      "source": [
        "range(len(idades))"
      ],
      "metadata": {
        "colab": {
          "base_uri": "https://localhost:8080/"
        },
        "id": "KaGgX0YioADF",
        "outputId": "9ac61dcd-72ae-427d-870e-17e06fb1ba97"
      },
      "execution_count": null,
      "outputs": [
        {
          "output_type": "execute_result",
          "data": {
            "text/plain": [
              "range(0, 8)"
            ]
          },
          "metadata": {},
          "execution_count": 66
        }
      ]
    },
    {
      "cell_type": "code",
      "source": [
        "list(range(len(idades)))"
      ],
      "metadata": {
        "colab": {
          "base_uri": "https://localhost:8080/"
        },
        "id": "aMxKzPWGoqIU",
        "outputId": "c4858774-6635-4f63-c312-c1f0bb13ebc9"
      },
      "execution_count": null,
      "outputs": [
        {
          "output_type": "execute_result",
          "data": {
            "text/plain": [
              "[0, 1, 2, 3, 4, 5, 6, 7]"
            ]
          },
          "metadata": {},
          "execution_count": 68
        }
      ]
    },
    {
      "cell_type": "code",
      "source": [
        "list(enumerate(idades))"
      ],
      "metadata": {
        "colab": {
          "base_uri": "https://localhost:8080/"
        },
        "id": "Yhedclu3o-ak",
        "outputId": "e2c45162-2126-4fa2-9fee-8643b5a28f9b"
      },
      "execution_count": null,
      "outputs": [
        {
          "output_type": "execute_result",
          "data": {
            "text/plain": [
              "[(0, 15), (1, 87), (2, 32), (3, 65), (4, 56), (5, 32), (6, 49), (7, 37)]"
            ]
          },
          "metadata": {},
          "execution_count": 69
        }
      ]
    },
    {
      "cell_type": "code",
      "source": [
        "for indice, idade in enumerate(idades):\n",
        "  print(indice,\" x \",  idade)"
      ],
      "metadata": {
        "colab": {
          "base_uri": "https://localhost:8080/"
        },
        "id": "836TNod8pGas",
        "outputId": "1cd50604-3a51-4f69-c996-fb316b1e0681"
      },
      "execution_count": null,
      "outputs": [
        {
          "output_type": "stream",
          "name": "stdout",
          "text": [
            "0  x  15\n",
            "1  x  87\n",
            "2  x  32\n",
            "3  x  65\n",
            "4  x  56\n",
            "5  x  32\n",
            "6  x  49\n",
            "7  x  37\n"
          ]
        }
      ]
    },
    {
      "cell_type": "code",
      "source": [
        "usuarios = [\n",
        "            ('gulherme', 37, 1981), \n",
        "            ('daniela', 31, 1987), \n",
        "            ('paulo', 39, 1979)\n",
        "]\n",
        "for nome, idade, nascimento in usuarios:\n",
        "  print(nome)"
      ],
      "metadata": {
        "colab": {
          "base_uri": "https://localhost:8080/"
        },
        "id": "-tdSe7SnpX10",
        "outputId": "3c2bfc76-b02a-406b-e2da-78eeac896e46"
      },
      "execution_count": null,
      "outputs": [
        {
          "output_type": "stream",
          "name": "stdout",
          "text": [
            "gulherme\n",
            "daniela\n",
            "paulo\n"
          ]
        }
      ]
    },
    {
      "cell_type": "code",
      "source": [
        "usuarios = [\n",
        "            ('gulherme', 37, 1981), \n",
        "            ('daniela', 31, 1987), \n",
        "            ('paulo', 39, 1979)\n",
        "]\n",
        "for nome, _, _ in usuarios:\n",
        "  print(nome)"
      ],
      "metadata": {
        "colab": {
          "base_uri": "https://localhost:8080/"
        },
        "id": "uge7tNCLqeSF",
        "outputId": "a0dae6ca-6ac4-41a4-ca33-1db34cc653d4"
      },
      "execution_count": null,
      "outputs": [
        {
          "output_type": "stream",
          "name": "stdout",
          "text": [
            "gulherme\n",
            "daniela\n",
            "paulo\n"
          ]
        }
      ]
    },
    {
      "cell_type": "code",
      "source": [
        "idades \n"
      ],
      "metadata": {
        "colab": {
          "base_uri": "https://localhost:8080/"
        },
        "id": "F7skBucRq0u8",
        "outputId": "087f46b5-8bbe-4afc-a2a2-982d08ca6584"
      },
      "execution_count": null,
      "outputs": [
        {
          "output_type": "execute_result",
          "data": {
            "text/plain": [
              "[15, 87, 32, 65, 56, 32, 49, 37]"
            ]
          },
          "metadata": {},
          "execution_count": 77
        }
      ]
    },
    {
      "cell_type": "code",
      "source": [
        "sorted(idades)"
      ],
      "metadata": {
        "colab": {
          "base_uri": "https://localhost:8080/"
        },
        "id": "pDmN-vVps5sN",
        "outputId": "f9dd4aba-766c-4812-dcf0-1def3c97e570"
      },
      "execution_count": null,
      "outputs": [
        {
          "output_type": "execute_result",
          "data": {
            "text/plain": [
              "[15, 32, 32, 37, 49, 56, 65, 87]"
            ]
          },
          "metadata": {},
          "execution_count": 78
        }
      ]
    },
    {
      "cell_type": "code",
      "source": [
        "list(reversed(idades))"
      ],
      "metadata": {
        "colab": {
          "base_uri": "https://localhost:8080/"
        },
        "id": "dkzqkwwvs7wF",
        "outputId": "e871121f-4a0d-41e3-8b9e-8ccc83b9ea05"
      },
      "execution_count": null,
      "outputs": [
        {
          "output_type": "execute_result",
          "data": {
            "text/plain": [
              "[37, 49, 32, 56, 65, 32, 87, 15]"
            ]
          },
          "metadata": {},
          "execution_count": 80
        }
      ]
    },
    {
      "cell_type": "code",
      "source": [
        "sorted(idades, reverse = True)"
      ],
      "metadata": {
        "colab": {
          "base_uri": "https://localhost:8080/"
        },
        "id": "yGX4Zj7gtBog",
        "outputId": "ae82eb18-cc40-49b8-abe6-aeeb3099ca58"
      },
      "execution_count": null,
      "outputs": [
        {
          "output_type": "execute_result",
          "data": {
            "text/plain": [
              "[87, 65, 56, 49, 37, 32, 32, 15]"
            ]
          },
          "metadata": {},
          "execution_count": 86
        }
      ]
    },
    {
      "cell_type": "code",
      "source": [
        "list(reversed(sorted(idades)))"
      ],
      "metadata": {
        "colab": {
          "base_uri": "https://localhost:8080/"
        },
        "id": "J5SXRACdur18",
        "outputId": "cdaf98c8-550b-4a2d-b30c-6d956a886415"
      },
      "execution_count": null,
      "outputs": [
        {
          "output_type": "execute_result",
          "data": {
            "text/plain": [
              "[87, 65, 56, 49, 37, 32, 32, 15]"
            ]
          },
          "metadata": {},
          "execution_count": 88
        }
      ]
    },
    {
      "cell_type": "code",
      "source": [
        "idades.sort()"
      ],
      "metadata": {
        "id": "YQ8lu3cavZP8"
      },
      "execution_count": null,
      "outputs": []
    },
    {
      "cell_type": "code",
      "source": [
        "idades"
      ],
      "metadata": {
        "colab": {
          "base_uri": "https://localhost:8080/"
        },
        "id": "GIWWK2PdwDj0",
        "outputId": "6425af39-8c2f-4450-fb93-fe2a2aaf2aae"
      },
      "execution_count": null,
      "outputs": [
        {
          "output_type": "execute_result",
          "data": {
            "text/plain": [
              "[15, 32, 32, 37, 49, 56, 65, 87]"
            ]
          },
          "metadata": {},
          "execution_count": 91
        }
      ]
    },
    {
      "cell_type": "code",
      "source": [
        "nomes = ['Guilherme', 'Daniela', 'Paulo']\n",
        "sorted(nomes)"
      ],
      "metadata": {
        "colab": {
          "base_uri": "https://localhost:8080/"
        },
        "id": "a1kbFGBJwG_c",
        "outputId": "37542ffc-c826-4aa2-a2dc-e88a8aa6f19b"
      },
      "execution_count": null,
      "outputs": [
        {
          "output_type": "execute_result",
          "data": {
            "text/plain": [
              "['Daniela', 'Guilherme', 'Paulo']"
            ]
          },
          "metadata": {},
          "execution_count": 92
        }
      ]
    },
    {
      "cell_type": "code",
      "source": [
        "class ContaSalario:\n",
        "  def __init__(self, codigo):\n",
        "    self._codigo = codigo\n",
        "    self._saldo = 0\n",
        "\n",
        "  def __eq__(self, outro):\n",
        "    return self._codigo == outro._codigo and self._saldo == outro._saldo\n",
        "\n",
        "  def deposita(self, valor):\n",
        "    self._saldo += valor\n",
        "\n",
        "  def __str__(self):\n",
        "    return \"[>>> cofigo {} saldo {} <<<]\".format(self._codigo, self._saldo )\n"
      ],
      "metadata": {
        "id": "e3_NvDBgw6vU"
      },
      "execution_count": null,
      "outputs": []
    },
    {
      "cell_type": "code",
      "source": [
        "conta_do_guilherme = ContaSalario(17)\n",
        "conta_do_guilherme.deposita(500)\n",
        "\n",
        "conta_da_daniela = ContaSalario(3)\n",
        "conta_da_daniela.deposita(1000)\n",
        "\n",
        "conta_do_paulo = ContaSalario(133)\n",
        "conta_do_paulo.deposita(510)\n",
        "\n",
        "contas = [conta_do_guilherme, conta_da_daniela, conta_do_paulo]"
      ],
      "metadata": {
        "id": "7IHz_7x1xDb8"
      },
      "execution_count": null,
      "outputs": []
    },
    {
      "cell_type": "code",
      "source": [
        "for conta in contas:\n",
        "   print(conta)"
      ],
      "metadata": {
        "colab": {
          "base_uri": "https://localhost:8080/"
        },
        "id": "U_VROmoWxvyr",
        "outputId": "7a0d4959-b871-4538-fb38-5a3f455a49a4"
      },
      "execution_count": null,
      "outputs": [
        {
          "output_type": "stream",
          "name": "stdout",
          "text": [
            "[>>> cofigo 17 saldo 500 <<<]\n",
            "[>>> cofigo 3 saldo 1000 <<<]\n",
            "[>>> cofigo 133 saldo 510 <<<]\n"
          ]
        }
      ]
    },
    {
      "cell_type": "code",
      "source": [
        "def extrai_saldo(conta):\n",
        "  return conta._saldo\n",
        "\n",
        "for conta in sorted(contas, key=extrai_saldo):\n",
        "  print(conta)\n",
        "\n"
      ],
      "metadata": {
        "colab": {
          "base_uri": "https://localhost:8080/"
        },
        "id": "isTG5THtx0lk",
        "outputId": "2dd01dba-acd9-4442-eae6-4d7cfbadbc52"
      },
      "execution_count": null,
      "outputs": [
        {
          "output_type": "stream",
          "name": "stdout",
          "text": [
            "[>>> cofigo 17 saldo 500 <<<]\n",
            "[>>> cofigo 133 saldo 510 <<<]\n",
            "[>>> cofigo 3 saldo 1000 <<<]\n"
          ]
        }
      ]
    },
    {
      "cell_type": "code",
      "source": [
        "from operator import attrgetter\n",
        "for conta in sorted(contas, key=attrgetter(\"_saldo\")):\n",
        "  print(conta)\n"
      ],
      "metadata": {
        "colab": {
          "base_uri": "https://localhost:8080/"
        },
        "id": "BWXzysjkx8Nl",
        "outputId": "b342fdfe-26f6-41fa-966d-b5dc3ea4c2fc"
      },
      "execution_count": null,
      "outputs": [
        {
          "output_type": "stream",
          "name": "stdout",
          "text": [
            "[>>> cofigo 17 saldo 500 <<<]\n",
            "[>>> cofigo 133 saldo 510 <<<]\n",
            "[>>> cofigo 3 saldo 1000 <<<]\n"
          ]
        }
      ]
    },
    {
      "cell_type": "code",
      "source": [
        "class ContaSalario:\n",
        "  def __init__(self, codigo):\n",
        "    self._codigo = codigo\n",
        "    self._saldo = 0\n",
        "\n",
        "  def __eq__(self, outro):\n",
        "    return self._codigo == outro._codigo and self._saldo == outro._saldo\n",
        "\n",
        "  def __lt__(self, outro):\n",
        "    return self._saldo < outro._saldo\n",
        "\n",
        "  def deposita(self, valor):\n",
        "    self._saldo += valor\n",
        "\n",
        "  def __str__(self):\n",
        "    return \"[>>> cofigo {} saldo {} <<<]\".format(self._codigo, self._saldo )\n"
      ],
      "metadata": {
        "id": "5Wk_z3RRy9vM"
      },
      "execution_count": null,
      "outputs": []
    },
    {
      "cell_type": "code",
      "source": [
        "conta_do_guilherme = ContaSalario(17)\n",
        "conta_do_guilherme.deposita(500)\n",
        "\n",
        "conta_da_daniela = ContaSalario(3)\n",
        "conta_da_daniela.deposita(1000)\n",
        "\n",
        "conta_do_paulo = ContaSalario(133)\n",
        "conta_do_paulo.deposita(510)\n",
        "\n",
        "contas = [conta_do_guilherme, conta_da_daniela, conta_do_paulo]"
      ],
      "metadata": {
        "id": "cYXPkm1y0m_7"
      },
      "execution_count": null,
      "outputs": []
    },
    {
      "cell_type": "code",
      "source": [
        "conta_do_guilherme < conta_da_daniela"
      ],
      "metadata": {
        "colab": {
          "base_uri": "https://localhost:8080/"
        },
        "id": "9iQVtLk10p6j",
        "outputId": "212a2379-2da7-4236-a626-5c0aa368a51a"
      },
      "execution_count": null,
      "outputs": [
        {
          "output_type": "execute_result",
          "data": {
            "text/plain": [
              "True"
            ]
          },
          "metadata": {},
          "execution_count": 106
        }
      ]
    },
    {
      "cell_type": "code",
      "source": [
        "conta_do_guilherme > conta_da_daniela"
      ],
      "metadata": {
        "colab": {
          "base_uri": "https://localhost:8080/"
        },
        "id": "laN8hs-b0wgK",
        "outputId": "84c142a2-85d2-48f7-b9cb-b71a7e544280"
      },
      "execution_count": null,
      "outputs": [
        {
          "output_type": "execute_result",
          "data": {
            "text/plain": [
              "False"
            ]
          },
          "metadata": {},
          "execution_count": 107
        }
      ]
    },
    {
      "cell_type": "code",
      "source": [
        "for conta in sorted(contas):\n",
        "  print(conta)"
      ],
      "metadata": {
        "colab": {
          "base_uri": "https://localhost:8080/"
        },
        "id": "8P49_8k61RA0",
        "outputId": "c3106fad-7e24-4cc1-eca2-257881212507"
      },
      "execution_count": null,
      "outputs": [
        {
          "output_type": "stream",
          "name": "stdout",
          "text": [
            "[>>> cofigo 17 saldo 500 <<<]\n",
            "[>>> cofigo 133 saldo 510 <<<]\n",
            "[>>> cofigo 3 saldo 1000 <<<]\n"
          ]
        }
      ]
    },
    {
      "cell_type": "code",
      "source": [
        "conta_do_guilherme = ContaSalario(1700)\n",
        "conta_do_guilherme.deposita(500)\n",
        "\n",
        "conta_da_daniela = ContaSalario(3)\n",
        "conta_da_daniela.deposita(500)\n",
        "\n",
        "conta_do_paulo = ContaSalario(133)\n",
        "conta_do_paulo.deposita(500)\n",
        "\n",
        "contas = [conta_do_guilherme, conta_da_daniela, conta_do_paulo]"
      ],
      "metadata": {
        "id": "I4sQXDx01c2z"
      },
      "execution_count": null,
      "outputs": []
    },
    {
      "cell_type": "code",
      "source": [
        "for conta in sorted(contas, key=attrgetter(\"_saldo\", \"_codigo\")):\n",
        "  print(conta)\n"
      ],
      "metadata": {
        "colab": {
          "base_uri": "https://localhost:8080/"
        },
        "id": "SVwIkl9C2ASc",
        "outputId": "a8f101a8-3859-4e4e-a78e-9769c14a34a0"
      },
      "execution_count": null,
      "outputs": [
        {
          "output_type": "stream",
          "name": "stdout",
          "text": [
            "[>>> cofigo 3 saldo 500 <<<]\n",
            "[>>> cofigo 133 saldo 500 <<<]\n",
            "[>>> cofigo 1700 saldo 500 <<<]\n"
          ]
        }
      ]
    },
    {
      "cell_type": "code",
      "source": [
        "class ContaSalario:\n",
        "  def __init__(self, codigo):\n",
        "    self._codigo = codigo\n",
        "    self._saldo = 0\n",
        "\n",
        "  def __eq__(self, outro):\n",
        "    return self._codigo == outro._codigo and self._saldo == outro._saldo\n",
        "\n",
        "  def __lt__(self, outro):\n",
        "    if self._saldo != outro._saldo:\n",
        "      return self._saldo < outro._saldo\n",
        "    return self._codigo < outro._codigo\n",
        "\n",
        "  def deposita(self, valor):\n",
        "    self._saldo += valor\n",
        "\n",
        "  def __str__(self):\n",
        "    return \"[>>> cofigo {} saldo {} <<<]\".format(self._codigo, self._saldo )\n"
      ],
      "metadata": {
        "id": "qT65ozQQ2PfM"
      },
      "execution_count": null,
      "outputs": []
    },
    {
      "cell_type": "code",
      "source": [
        "for conta in sorted(contas):\n",
        "  print(conta)"
      ],
      "metadata": {
        "colab": {
          "base_uri": "https://localhost:8080/"
        },
        "id": "ur4yEfi42w1l",
        "outputId": "d58b41fa-5c67-48bf-8674-3485a41d4c2e"
      },
      "execution_count": null,
      "outputs": [
        {
          "output_type": "stream",
          "name": "stdout",
          "text": [
            "[>>> cofigo 1700 saldo 500 <<<]\n",
            "[>>> cofigo 3 saldo 500 <<<]\n",
            "[>>> cofigo 133 saldo 500 <<<]\n"
          ]
        }
      ]
    },
    {
      "cell_type": "code",
      "source": [
        "conta_do_guilherme = ContaSalario(1700)\n",
        "conta_do_guilherme.deposita(500)\n",
        "\n",
        "conta_da_daniela = ContaSalario(3)\n",
        "conta_da_daniela.deposita(1000)\n",
        "\n",
        "conta_do_paulo = ContaSalario(133)\n",
        "conta_do_paulo.deposita(510)\n",
        "\n",
        "contas = [conta_do_guilherme, conta_da_daniela, conta_do_paulo]"
      ],
      "metadata": {
        "id": "Wy6VB6cZ24Xj"
      },
      "execution_count": null,
      "outputs": []
    },
    {
      "cell_type": "code",
      "source": [
        "for conta in sorted(contas):\n",
        "  print(conta)"
      ],
      "metadata": {
        "colab": {
          "base_uri": "https://localhost:8080/"
        },
        "id": "EZq2n6iH3Gg8",
        "outputId": "07cf0262-664c-44e3-d4c9-25891dee88d4"
      },
      "execution_count": null,
      "outputs": [
        {
          "output_type": "stream",
          "name": "stdout",
          "text": [
            "[>>> cofigo 1700 saldo 500 <<<]\n",
            "[>>> cofigo 133 saldo 510 <<<]\n",
            "[>>> cofigo 3 saldo 1000 <<<]\n"
          ]
        }
      ]
    },
    {
      "cell_type": "code",
      "source": [
        "conta_do_guilherme = ContaSalario(1700)\n",
        "conta_do_guilherme.deposita(500)\n",
        "\n",
        "conta_da_daniela = ContaSalario(3)\n",
        "conta_da_daniela.deposita(500)\n",
        "\n",
        "conta_do_paulo = ContaSalario(133)\n",
        "conta_do_paulo.deposita(500)\n",
        "\n",
        "contas = [conta_do_guilherme, conta_da_daniela, conta_do_paulo]"
      ],
      "metadata": {
        "id": "utJbbe6X3JLM"
      },
      "execution_count": null,
      "outputs": []
    },
    {
      "cell_type": "code",
      "source": [
        "for conta in sorted(contas):\n",
        "  print(conta)"
      ],
      "metadata": {
        "colab": {
          "base_uri": "https://localhost:8080/"
        },
        "id": "lR4-1dz03Muc",
        "outputId": "85f6205d-8fc5-4877-9708-605cfdbfe268"
      },
      "execution_count": null,
      "outputs": [
        {
          "output_type": "stream",
          "name": "stdout",
          "text": [
            "[>>> cofigo 3 saldo 500 <<<]\n",
            "[>>> cofigo 133 saldo 500 <<<]\n",
            "[>>> cofigo 1700 saldo 500 <<<]\n"
          ]
        }
      ]
    },
    {
      "cell_type": "code",
      "source": [
        " from functools import total_ordering\n",
        " @total_ordering\n",
        " class ContaSalario:\n",
        "  def __init__(self, codigo):\n",
        "    self._codigo = codigo\n",
        "    self._saldo = 0\n",
        "\n",
        "  def __eq__(self, outro):\n",
        "    return self._codigo == outro._codigo and self._saldo == outro._saldo\n",
        "\n",
        "  def __lt__(self, outro):\n",
        "    if self._saldo != outro._saldo:\n",
        "      return self._saldo < outro._saldo\n",
        "    return self._codigo < outro._codigo\n",
        "\n",
        "  def deposita(self, valor):\n",
        "    self._saldo += valor\n",
        "\n",
        "  def __str__(self):\n",
        "    return \"[>>> cofigo {} saldo {} <<<]\".format(self._codigo, self._saldo )\n"
      ],
      "metadata": {
        "id": "9mntDZG03OX1"
      },
      "execution_count": null,
      "outputs": []
    },
    {
      "cell_type": "code",
      "source": [
        "conta_do_guilherme = ContaSalario(1700)\n",
        "conta_do_guilherme.deposita(500)\n",
        "\n",
        "conta_da_daniela = ContaSalario(3)\n",
        "conta_da_daniela.deposita(1000)\n",
        "\n",
        "conta_do_paulo = ContaSalario(133)\n",
        "conta_do_paulo.deposita(510)\n",
        "\n",
        "contas = [conta_do_guilherme, conta_da_daniela, conta_do_paulo]"
      ],
      "metadata": {
        "id": "HAg1dRhw4Ofr"
      },
      "execution_count": null,
      "outputs": []
    },
    {
      "cell_type": "code",
      "source": [
        "conta_do_guilherme <= conta_da_daniela\n"
      ],
      "metadata": {
        "colab": {
          "base_uri": "https://localhost:8080/"
        },
        "id": "Wyxnx_io4VGU",
        "outputId": "85caa9f2-87dc-48d7-eb88-74396ddeb707"
      },
      "execution_count": null,
      "outputs": [
        {
          "output_type": "execute_result",
          "data": {
            "text/plain": [
              "True"
            ]
          },
          "metadata": {},
          "execution_count": 131
        }
      ]
    },
    {
      "cell_type": "code",
      "source": [
        ""
      ],
      "metadata": {
        "id": "qHyZZSrP4nhU"
      },
      "execution_count": null,
      "outputs": []
    }
  ]
}